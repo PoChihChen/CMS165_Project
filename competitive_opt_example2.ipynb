{
 "cells": [
  {
   "cell_type": "markdown",
   "metadata": {
    "colab_type": "text",
    "id": "cpxNFAP-MdQ0"
   },
   "source": [
    "# Example 2"
   ]
  },
  {
   "cell_type": "code",
   "execution_count": 65,
   "metadata": {
    "colab": {},
    "colab_type": "code",
    "id": "e8rPz0lVMdQ2"
   },
   "outputs": [],
   "source": [
    "import numpy as np\n",
    "import matplotlib.pyplot as plt\n",
    "\n",
    "def loss(x, y, c):\n",
    "    return (c[0]*x + c[1]*y + c[2])*(x**3 + y**3) + x**2 - 5*y**2\n",
    "\n",
    "def grad(x, y, c):\n",
    "    return np.array([-c[0]*(x**3 + y**3) - (c[0]*x + c[1]*y + c[2])*3*x**2 - 2*x, \\\n",
    "                     c[1]*(x**3 + y**3) + (c[0]*x + c[1]*y + c[2])*3*y**2 - 10*y])\n",
    "\n",
    "def SGDA(x0, y0, c, Nitr=20000, alpha=0.1, noise_scale=0):\n",
    "    x = np.copy(x0)\n",
    "    y = np.copy(y0)\n",
    "    xys = np.zeros((Nitr, 2))\n",
    "    cnvg_point = 0\n",
    "    for i in range(Nitr):\n",
    "        g = grad(x, y, c)\n",
    "        x += alpha*(g[0] + np.random.normal(scale=noise_scale))\n",
    "        y += alpha*(g[1] + np.random.normal(scale=noise_scale))\n",
    "        xys[i] = [x, y]\n",
    "        if abs(x) > 1e3 or abs(y) > 1e3:\n",
    "            break\n",
    "        if (loss(x, y, c) - loss(xys[i-1][0], xys[i-1][1], c))**2 < 1e-10:\n",
    "            if x**2 + y**2 < 1e-3:\n",
    "                cnvg_point = 1\n",
    "                break\n",
    "            else:\n",
    "                cnvg_point = 2\n",
    "                break\n",
    "    if i == Nitr - 1:\n",
    "        print('Warning: Reaching max. no. of iterations.')\n",
    "    return np.array([x, y]), cnvg_point, i\n",
    "\n",
    "def OSGDA(x0, y0, c, Nitr=20000, alpha=0.1, noise_scale=0):\n",
    "    x = np.copy(x0)\n",
    "    y = np.copy(y0)\n",
    "    xys = np.zeros((Nitr, 2))\n",
    "    cnvg_point = 0\n",
    "    g_prev = np.zeros(2)\n",
    "    for i in range(Nitr):\n",
    "        g = grad(x, y, c)\n",
    "        x += alpha*(2*g[0] - g_prev[0] + np.random.normal(scale=noise_scale))\n",
    "        y += alpha*(2*g[1] - g_prev[1] + np.random.normal(scale=noise_scale))\n",
    "        xys[i] = [x, y]\n",
    "        g_prev = np.copy(g)\n",
    "        if abs(x) > 1e3 or abs(y) > 1e3:\n",
    "            break\n",
    "        if (loss(x, y, c) - loss(xys[i-1][0], xys[i-1][1], c))**2 < 1e-10:\n",
    "            if x**2 + y**2 < 1e-3:\n",
    "                cnvg_point = 1\n",
    "                break\n",
    "            else:\n",
    "                cnvg_point = 2\n",
    "                break\n",
    "    if i == Nitr - 1:\n",
    "        print('Warning: Reaching max. no. of iterations.')\n",
    "    return np.array([x, y]), cnvg_point, i\n",
    "\n",
    "def TTUR(x0, y0, c, Nitr=20000, alpha_x=0.01, alpha_y=0.1, noise_scale=0):\n",
    "    x = np.copy(x0)\n",
    "    y = np.copy(y0)\n",
    "    xys = np.zeros((Nitr, 2))\n",
    "    cnvg_point = 0\n",
    "    for i in range(Nitr):\n",
    "        g = grad(x, y, c)\n",
    "        x += alpha_x*(g[0] + np.random.normal(scale=noise_scale))\n",
    "        y += alpha_y*(g[1] + np.random.normal(scale=noise_scale))\n",
    "        xys[i] = [x, y]\n",
    "        if abs(x) > 1e3 or abs(y) > 1e3:\n",
    "            break\n",
    "        if (loss(x, y, c) - loss(xys[i-1][0], xys[i-1][1], c))**2 < 1e-10:\n",
    "            if x**2 + y**2 < 1e-3:\n",
    "                cnvg_point = 1\n",
    "                break\n",
    "            else:\n",
    "                cnvg_point = 2\n",
    "                break\n",
    "    if i == Nitr - 1:\n",
    "        print('Warning: Reaching max. no. of iterations.')\n",
    "    return np.array([x, y]), cnvg_point, i\n",
    "\n",
    "def OSGDA_TTUR(x0, y0, c, Nitr=20000, alpha_x=0.01, alpha_y=0.1, noise_scale=0):\n",
    "    x = np.copy(x0)\n",
    "    y = np.copy(y0)\n",
    "    xys = np.zeros((Nitr, 2))\n",
    "    cnvg_point = 0\n",
    "    g_prev = np.zeros(2)\n",
    "    for i in range(Nitr):\n",
    "        g = grad(x, y, c)\n",
    "        x += alpha_x*(2*g[0] - g_prev[0] + np.random.normal(scale=noise_scale))\n",
    "        y += alpha_y*(2*g[1] - g_prev[1] + np.random.normal(scale=noise_scale))\n",
    "        xys[i] = [x, y]\n",
    "        g_prev = np.copy(g)\n",
    "        if abs(x) > 1e3 or abs(y) > 1e3:\n",
    "            break\n",
    "        if (loss(x, y, c) - loss(xys[i-1][0], xys[i-1][1], c))**2 < 1e-10:\n",
    "            if x**2 + y**2 < 1e-3:\n",
    "                cnvg_point = 1\n",
    "                break\n",
    "            else:\n",
    "                cnvg_point = 2\n",
    "                break\n",
    "    if i == Nitr - 1:\n",
    "        print('Warning: Reaching max. no. of iterations.')\n",
    "    return np.array([x, y]), cnvg_point, i"
   ]
  },
  {
   "cell_type": "code",
   "execution_count": 74,
   "metadata": {},
   "outputs": [],
   "source": [
    "cs = [np.random.uniform(-1., 1., 3) for _ in range(10)]\n",
    "c_rand = np.random.uniform(-1., 1., 3)"
   ]
  },
  {
   "cell_type": "code",
   "execution_count": 79,
   "metadata": {},
   "outputs": [
    {
     "name": "stdout",
     "output_type": "stream",
     "text": [
      "[array([-0.26130643, -0.02363647,  0.80237015]), array([ 0.30679342, -0.92383357,  0.17524263]), array([ 0.59742187,  0.20870299, -0.95995866]), array([0.24928201, 0.40378476, 0.70056728]), array([ 0.26539257,  0.27051036, -0.30712411]), array([ 0.99939749, -0.09027288,  0.02359497]), array([-0.26587154,  0.51419321,  0.78573512]), array([ 0.4491155 , -0.72998054, -0.03921096]), array([ 0.09245155, -0.06042132, -0.86623981]), array([0.76396897, 0.78093529, 0.7401688 ])]\n"
     ]
    }
   ],
   "source": [
    "print(cs)\n",
    "n_rand_funcs = 10\n",
    "n_trials = 500"
   ]
  },
  {
   "cell_type": "markdown",
   "metadata": {},
   "source": [
    "### SGDA"
   ]
  },
  {
   "cell_type": "code",
   "execution_count": 81,
   "metadata": {},
   "outputs": [
    {
     "name": "stdout",
     "output_type": "stream",
     "text": [
      "41.33582269332691\n",
      "[0.1698 0.7928 0.0374]\n"
     ]
    }
   ],
   "source": [
    "cnvg_point_prob = np.zeros(3)\n",
    "itr_avg = 0\n",
    "for j in range(n_rand_funcs):\n",
    "    c = cs[j]\n",
    "    for i in range(n_trials):\n",
    "        x = np.random.uniform(-3., 3)\n",
    "        y = np.random.uniform(-3., 3.)\n",
    "        z, cnvg_point, itr = SGDA(x, y, c, alpha=0.05)\n",
    "        cnvg_point_prob[cnvg_point] += 1\n",
    "        if cnvg_point > 0:\n",
    "            itr_avg += itr\n",
    "        \n",
    "itr_avg = float(itr_avg)/float(np.sum(cnvg_point_prob[1:]))\n",
    "cnvg_point_prob /= n_trials*n_rand_funcs\n",
    "print(itr_avg)\n",
    "print(cnvg_point_prob)"
   ]
  },
  {
   "cell_type": "code",
   "execution_count": 82,
   "metadata": {},
   "outputs": [
    {
     "name": "stdout",
     "output_type": "stream",
     "text": [
      "37.10162601626016\n",
      "[0.1636 0.7916 0.0448]\n"
     ]
    }
   ],
   "source": [
    "cnvg_point_prob = np.zeros(3)\n",
    "itr_avg = 0\n",
    "for j in range(n_rand_funcs):\n",
    "    c = cs[j]\n",
    "    for i in range(n_trials):\n",
    "        x = np.random.uniform(-3., 3)\n",
    "        y = np.random.uniform(-3., 3.)\n",
    "        z, cnvg_point, itr = SGDA(x, y, c, alpha=0.05, noise_scale=0.03)\n",
    "        cnvg_point_prob[cnvg_point] += 1\n",
    "        if cnvg_point > 0:\n",
    "            itr_avg += itr\n",
    "        \n",
    "itr_avg = float(itr_avg)/float(np.sum(cnvg_point_prob[1:]))\n",
    "cnvg_point_prob /= n_trials*n_rand_funcs\n",
    "print(itr_avg)\n",
    "print(cnvg_point_prob)"
   ]
  },
  {
   "cell_type": "code",
   "execution_count": 83,
   "metadata": {},
   "outputs": [
    {
     "name": "stdout",
     "output_type": "stream",
     "text": [
      "178.91544638639584\n",
      "[0.1532 0.7596 0.0872]\n"
     ]
    }
   ],
   "source": [
    "cnvg_point_prob = np.zeros(3)\n",
    "itr_avg = 0\n",
    "for j in range(n_rand_funcs):\n",
    "    c = cs[j]\n",
    "    for i in range(n_trials):\n",
    "        x = np.random.uniform(-3., 3)\n",
    "        y = np.random.uniform(-3., 3.)\n",
    "        z, cnvg_point, itr = SGDA(x, y, c, alpha=0.01)\n",
    "        cnvg_point_prob[cnvg_point] += 1\n",
    "        if cnvg_point > 0:\n",
    "            itr_avg += itr\n",
    "        \n",
    "itr_avg = float(itr_avg)/float(np.sum(cnvg_point_prob[1:]))\n",
    "cnvg_point_prob /= n_trials*n_rand_funcs\n",
    "print(itr_avg)\n",
    "print(cnvg_point_prob)"
   ]
  },
  {
   "cell_type": "code",
   "execution_count": 84,
   "metadata": {},
   "outputs": [
    {
     "name": "stdout",
     "output_type": "stream",
     "text": [
      "152.95972998137802\n",
      "[0.1408 0.5476 0.3116]\n"
     ]
    }
   ],
   "source": [
    "cnvg_point_prob = np.zeros(3)\n",
    "itr_avg = 0\n",
    "for j in range(n_rand_funcs):\n",
    "    c = cs[j]\n",
    "    for i in range(n_trials):\n",
    "        x = np.random.uniform(-3., 3)\n",
    "        y = np.random.uniform(-3., 3.)\n",
    "        z, cnvg_point, itr = SGDA(x, y, c, alpha=0.01, noise_scale=0.03)\n",
    "        cnvg_point_prob[cnvg_point] += 1\n",
    "        if cnvg_point > 0:\n",
    "            itr_avg += itr\n",
    "        \n",
    "itr_avg = float(itr_avg)/float(np.sum(cnvg_point_prob[1:]))\n",
    "cnvg_point_prob /= n_trials*n_rand_funcs\n",
    "print(itr_avg)\n",
    "print(cnvg_point_prob)"
   ]
  },
  {
   "cell_type": "markdown",
   "metadata": {},
   "source": [
    "### OSGDA"
   ]
  },
  {
   "cell_type": "code",
   "execution_count": 85,
   "metadata": {},
   "outputs": [
    {
     "name": "stdout",
     "output_type": "stream",
     "text": [
      "45.708580343213725\n",
      "[0.359  0.6042 0.0368]\n"
     ]
    }
   ],
   "source": [
    "cnvg_point_prob = np.zeros(3)\n",
    "itr_avg = 0\n",
    "for j in range(n_rand_funcs):\n",
    "    c = cs[j]\n",
    "    for i in range(n_trials):\n",
    "        x = np.random.uniform(-3., 3)\n",
    "        y = np.random.uniform(-3., 3.)\n",
    "        z, cnvg_point, itr = OSGDA(x, y, c, alpha=0.05)\n",
    "        cnvg_point_prob[cnvg_point] += 1\n",
    "        if cnvg_point > 0:\n",
    "            itr_avg += itr\n",
    "        \n",
    "itr_avg = float(itr_avg)/float(np.sum(cnvg_point_prob[1:]))\n",
    "cnvg_point_prob /= n_trials*n_rand_funcs\n",
    "print(itr_avg)\n",
    "print(cnvg_point_prob)"
   ]
  },
  {
   "cell_type": "code",
   "execution_count": 86,
   "metadata": {},
   "outputs": [
    {
     "name": "stdout",
     "output_type": "stream",
     "text": [
      "40.32059186189889\n",
      "[0.3512 0.5902 0.0586]\n"
     ]
    }
   ],
   "source": [
    "cnvg_point_prob = np.zeros(3)\n",
    "itr_avg = 0\n",
    "for j in range(n_rand_funcs):\n",
    "    c = cs[j]\n",
    "    for i in range(n_trials):\n",
    "        x = np.random.uniform(-3., 3)\n",
    "        y = np.random.uniform(-3., 3.)\n",
    "        z, cnvg_point, itr = OSGDA(x, y, c, alpha=0.05, noise_scale=0.03)\n",
    "        cnvg_point_prob[cnvg_point] += 1\n",
    "        if cnvg_point > 0:\n",
    "            itr_avg += itr\n",
    "        \n",
    "itr_avg = float(itr_avg)/float(np.sum(cnvg_point_prob[1:]))\n",
    "cnvg_point_prob /= n_trials*n_rand_funcs\n",
    "print(itr_avg)\n",
    "print(cnvg_point_prob)"
   ]
  },
  {
   "cell_type": "code",
   "execution_count": 87,
   "metadata": {},
   "outputs": [
    {
     "name": "stdout",
     "output_type": "stream",
     "text": [
      "180.704432329936\n",
      "[0.1562 0.7524 0.0914]\n"
     ]
    }
   ],
   "source": [
    "cnvg_point_prob = np.zeros(3)\n",
    "itr_avg = 0\n",
    "for j in range(n_rand_funcs):\n",
    "    c = cs[j]\n",
    "    for i in range(n_trials):\n",
    "        x = np.random.uniform(-3., 3)\n",
    "        y = np.random.uniform(-3., 3.)\n",
    "        z, cnvg_point, itr = OSGDA(x, y, c, alpha=0.01)\n",
    "        cnvg_point_prob[cnvg_point] += 1\n",
    "        if cnvg_point > 0:\n",
    "            itr_avg += itr\n",
    "        \n",
    "itr_avg = float(itr_avg)/float(np.sum(cnvg_point_prob[1:]))\n",
    "cnvg_point_prob /= n_trials*n_rand_funcs\n",
    "print(itr_avg)\n",
    "print(cnvg_point_prob)"
   ]
  },
  {
   "cell_type": "code",
   "execution_count": 88,
   "metadata": {},
   "outputs": [
    {
     "name": "stdout",
     "output_type": "stream",
     "text": [
      "154.43658994833254\n",
      "[0.1484 0.4988 0.3528]\n"
     ]
    }
   ],
   "source": [
    "cnvg_point_prob = np.zeros(3)\n",
    "itr_avg = 0\n",
    "for j in range(n_rand_funcs):\n",
    "    c = cs[j]\n",
    "    for i in range(n_trials):\n",
    "        x = np.random.uniform(-3., 3)\n",
    "        y = np.random.uniform(-3., 3.)\n",
    "        z, cnvg_point, itr = OSGDA(x, y, c, alpha=0.01, noise_scale=0.03)\n",
    "        cnvg_point_prob[cnvg_point] += 1\n",
    "        if cnvg_point > 0:\n",
    "            itr_avg += itr\n",
    "        \n",
    "itr_avg = float(itr_avg)/float(np.sum(cnvg_point_prob[1:]))\n",
    "cnvg_point_prob /= n_trials*n_rand_funcs\n",
    "print(itr_avg)\n",
    "print(cnvg_point_prob)"
   ]
  },
  {
   "cell_type": "markdown",
   "metadata": {},
   "source": [
    "### TTUR"
   ]
  },
  {
   "cell_type": "code",
   "execution_count": 89,
   "metadata": {},
   "outputs": [
    {
     "name": "stdout",
     "output_type": "stream",
     "text": [
      "182.78093158660843\n",
      "[0.1756 0.7828 0.0416]\n"
     ]
    }
   ],
   "source": [
    "cnvg_point_prob = np.zeros(3)\n",
    "itr_avg = 0\n",
    "for j in range(n_rand_funcs):\n",
    "    c = cs[j]\n",
    "    for i in range(n_trials):\n",
    "        x = np.random.uniform(-3., 3)\n",
    "        y = np.random.uniform(-3., 3.)\n",
    "        z, cnvg_point, itr = TTUR(x, y, c, alpha_x=0.01, alpha_y=0.05)\n",
    "        cnvg_point_prob[cnvg_point] += 1\n",
    "        if cnvg_point > 0:\n",
    "            itr_avg += itr\n",
    "        \n",
    "itr_avg = float(itr_avg)/float(np.sum(cnvg_point_prob[1:]))\n",
    "cnvg_point_prob /= n_trials*n_rand_funcs\n",
    "print(itr_avg)\n",
    "print(cnvg_point_prob)"
   ]
  },
  {
   "cell_type": "code",
   "execution_count": 90,
   "metadata": {},
   "outputs": [
    {
     "name": "stdout",
     "output_type": "stream",
     "text": [
      "145.42538218878911\n",
      "[0.1758 0.32   0.5042]\n"
     ]
    }
   ],
   "source": [
    "cnvg_point_prob = np.zeros(3)\n",
    "itr_avg = 0\n",
    "for j in range(n_rand_funcs):\n",
    "    c = cs[j]\n",
    "    for i in range(n_trials):\n",
    "        x = np.random.uniform(-3., 3)\n",
    "        y = np.random.uniform(-3., 3.)\n",
    "        z, cnvg_point, itr = TTUR(x, y, c, alpha_x=0.01, alpha_y=0.05, noise_scale=0.03)\n",
    "        cnvg_point_prob[cnvg_point] += 1\n",
    "        if cnvg_point > 0:\n",
    "            itr_avg += itr\n",
    "        \n",
    "itr_avg = float(itr_avg)/float(np.sum(cnvg_point_prob[1:]))\n",
    "cnvg_point_prob /= n_trials*n_rand_funcs\n",
    "print(itr_avg)\n",
    "print(cnvg_point_prob)"
   ]
  },
  {
   "cell_type": "code",
   "execution_count": 91,
   "metadata": {},
   "outputs": [
    {
     "name": "stdout",
     "output_type": "stream",
     "text": [
      "56.07838695061169\n",
      "[0.1172 0.8278 0.055 ]\n"
     ]
    }
   ],
   "source": [
    "cnvg_point_prob = np.zeros(3)\n",
    "itr_avg = 0\n",
    "for j in range(n_rand_funcs):\n",
    "    c = cs[j]\n",
    "    for i in range(n_trials):\n",
    "        x = np.random.uniform(-3., 3)\n",
    "        y = np.random.uniform(-3., 3.)\n",
    "        z, cnvg_point, itr = TTUR(x, y, c, alpha_x=0.05, alpha_y=0.01)\n",
    "        cnvg_point_prob[cnvg_point] += 1\n",
    "        if cnvg_point > 0:\n",
    "            itr_avg += itr\n",
    "        \n",
    "itr_avg = float(itr_avg)/float(np.sum(cnvg_point_prob[1:]))\n",
    "cnvg_point_prob /= n_trials*n_rand_funcs\n",
    "print(itr_avg)\n",
    "print(cnvg_point_prob)"
   ]
  },
  {
   "cell_type": "code",
   "execution_count": 92,
   "metadata": {},
   "outputs": [
    {
     "name": "stdout",
     "output_type": "stream",
     "text": [
      "52.26681664791901\n",
      "[0.111 0.817 0.072]\n"
     ]
    }
   ],
   "source": [
    "cnvg_point_prob = np.zeros(3)\n",
    "itr_avg = 0\n",
    "for j in range(n_rand_funcs):\n",
    "    c = cs[j]\n",
    "    for i in range(n_trials):\n",
    "        x = np.random.uniform(-3., 3)\n",
    "        y = np.random.uniform(-3., 3.)\n",
    "        z, cnvg_point, itr = TTUR(x, y, c, alpha_x=0.05, alpha_y=0.01, noise_scale=0.03)\n",
    "        cnvg_point_prob[cnvg_point] += 1\n",
    "        if cnvg_point > 0:\n",
    "            itr_avg += itr\n",
    "        \n",
    "itr_avg = float(itr_avg)/float(np.sum(cnvg_point_prob[1:]))\n",
    "cnvg_point_prob /= n_trials*n_rand_funcs\n",
    "print(itr_avg)\n",
    "print(cnvg_point_prob)"
   ]
  },
  {
   "cell_type": "markdown",
   "metadata": {},
   "source": [
    "### Combining OSGDA and TTUR"
   ]
  },
  {
   "cell_type": "code",
   "execution_count": 93,
   "metadata": {},
   "outputs": [
    {
     "name": "stdout",
     "output_type": "stream",
     "text": [
      "183.77536656891496\n",
      "[0.318 0.639 0.043]\n"
     ]
    }
   ],
   "source": [
    "cnvg_point_prob = np.zeros(3)\n",
    "itr_avg = 0\n",
    "for j in range(n_rand_funcs):\n",
    "    c = cs[j]\n",
    "    for i in range(n_trials):\n",
    "        x = np.random.uniform(-3., 3)\n",
    "        y = np.random.uniform(-3., 3.)\n",
    "        z, cnvg_point, itr = OSGDA_TTUR(x, y, c, alpha_x=0.01, alpha_y=0.05)\n",
    "        cnvg_point_prob[cnvg_point] += 1\n",
    "        if cnvg_point > 0:\n",
    "            itr_avg += itr\n",
    "        \n",
    "itr_avg = float(itr_avg)/float(np.sum(cnvg_point_prob[1:]))\n",
    "cnvg_point_prob /= n_trials*n_rand_funcs\n",
    "print(itr_avg)\n",
    "print(cnvg_point_prob)"
   ]
  },
  {
   "cell_type": "code",
   "execution_count": 94,
   "metadata": {},
   "outputs": [
    {
     "name": "stdout",
     "output_type": "stream",
     "text": [
      "145.44508838017967\n",
      "[0.3098 0.2178 0.4724]\n"
     ]
    }
   ],
   "source": [
    "cnvg_point_prob = np.zeros(3)\n",
    "itr_avg = 0\n",
    "for j in range(n_rand_funcs):\n",
    "    c = cs[j]\n",
    "    for i in range(n_trials):\n",
    "        x = np.random.uniform(-3., 3)\n",
    "        y = np.random.uniform(-3., 3.)\n",
    "        z, cnvg_point, itr = OSGDA_TTUR(x, y, c, alpha_x=0.01, alpha_y=0.05, noise_scale=0.03)\n",
    "        cnvg_point_prob[cnvg_point] += 1\n",
    "        if cnvg_point > 0:\n",
    "            itr_avg += itr\n",
    "        \n",
    "itr_avg = float(itr_avg)/float(np.sum(cnvg_point_prob[1:]))\n",
    "cnvg_point_prob /= n_trials*n_rand_funcs\n",
    "print(itr_avg)\n",
    "print(cnvg_point_prob)"
   ]
  },
  {
   "cell_type": "code",
   "execution_count": 95,
   "metadata": {},
   "outputs": [
    {
     "name": "stdout",
     "output_type": "stream",
     "text": [
      "60.83957085828343\n",
      "[0.1984 0.7538 0.0478]\n"
     ]
    }
   ],
   "source": [
    "cnvg_point_prob = np.zeros(3)\n",
    "itr_avg = 0\n",
    "for j in range(n_rand_funcs):\n",
    "    c = cs[j]\n",
    "    for i in range(n_trials):\n",
    "        x = np.random.uniform(-3., 3)\n",
    "        y = np.random.uniform(-3., 3.)\n",
    "        z, cnvg_point, itr = OSGDA_TTUR(x, y, c, alpha_x=0.05, alpha_y=0.01)\n",
    "        cnvg_point_prob[cnvg_point] += 1\n",
    "        if cnvg_point > 0:\n",
    "            itr_avg += itr\n",
    "        \n",
    "itr_avg = float(itr_avg)/float(np.sum(cnvg_point_prob[1:]))\n",
    "cnvg_point_prob /= n_trials*n_rand_funcs\n",
    "print(itr_avg)\n",
    "print(cnvg_point_prob)"
   ]
  },
  {
   "cell_type": "code",
   "execution_count": 96,
   "metadata": {},
   "outputs": [
    {
     "name": "stdout",
     "output_type": "stream",
     "text": [
      "55.70798689846309\n",
      "[0.2062 0.7146 0.0792]\n"
     ]
    }
   ],
   "source": [
    "cnvg_point_prob = np.zeros(3)\n",
    "itr_avg = 0\n",
    "for j in range(n_rand_funcs):\n",
    "    c = cs[j]\n",
    "    for i in range(n_trials):\n",
    "        x = np.random.uniform(-3., 3)\n",
    "        y = np.random.uniform(-3., 3.)\n",
    "        z, cnvg_point, itr = OSGDA_TTUR(x, y, c, alpha_x=0.05, alpha_y=0.01, noise_scale=0.03)\n",
    "        cnvg_point_prob[cnvg_point] += 1\n",
    "        if cnvg_point > 0:\n",
    "            itr_avg += itr\n",
    "        \n",
    "itr_avg = float(itr_avg)/float(np.sum(cnvg_point_prob[1:]))\n",
    "cnvg_point_prob /= n_trials*n_rand_funcs\n",
    "print(itr_avg)\n",
    "print(cnvg_point_prob)"
   ]
  },
  {
   "cell_type": "markdown",
   "metadata": {},
   "source": [
    "### SGDA dynamics"
   ]
  },
  {
   "cell_type": "code",
   "execution_count": 112,
   "metadata": {},
   "outputs": [
    {
     "data": {
      "image/png": "[encoded data removed]",
      "text/plain": [
       "<Figure size 432x288 with 1 Axes>"
      ]
     },
     "metadata": {
      "needs_background": "light"
     },
     "output_type": "display_data"
    }
   ],
   "source": [
    "N = 41\n",
    "xs = np.linspace(-3., 3., num=N)\n",
    "ys = np.linspace(-3., 3., num=N)\n",
    "grads = np.zeros((N, N, 2))\n",
    "for i in range(len(xs)):\n",
    "    for j in range(len(ys)):\n",
    "        v = grad(xs[i], ys[j], cs[6])\n",
    "        grads[j, i] = np.divide(v, np.linalg.norm(v), out=np.zeros_like(v), where=np.linalg.norm(v)!=0)\n",
    "plt.figure()\n",
    "plt.quiver(xs, ys, grads[:, :, 0], grads[:, :, 1], scale=60, width=0.002, color='blue')\n",
    "plt.xlim(-3, 3)\n",
    "plt.ylim(-3, 3)\n",
    "plt.savefig('example2_gradient.pdf')"
   ]
  }
 ],
 "metadata": {
  "colab": {
   "collapsed_sections": [],
   "name": "majority_vote.ipynb",
   "provenance": [],
   "version": "0.3.2"
  },
  "kernelspec": {
   "display_name": "Python 3",
   "language": "python",
   "name": "python3"
  },
  "language_info": {
   "codemirror_mode": {
    "name": "ipython",
    "version": 3
   },
   "file_extension": ".py",
   "mimetype": "text/x-python",
   "name": "python",
   "nbconvert_exporter": "python",
   "pygments_lexer": "ipython3",
   "version": "3.6.8"
  }
 },
 "nbformat": 4,
 "nbformat_minor": 1
}
