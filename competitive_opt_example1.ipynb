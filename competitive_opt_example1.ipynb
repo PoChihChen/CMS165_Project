{
 "cells": [
  {
   "cell_type": "markdown",
   "metadata": {
    "colab_type": "text",
    "id": "cpxNFAP-MdQ0"
   },
   "source": [
    "# Example 1"
   ]
  },
  {
   "cell_type": "code",
   "execution_count": 1,
   "metadata": {
    "colab": {},
    "colab_type": "code",
    "id": "e8rPz0lVMdQ2"
   },
   "outputs": [],
   "source": [
    "import numpy as np\n",
    "import matplotlib.pyplot as plt\n",
    "\n",
    "def loss(x, y, func=1):\n",
    "    if func == 1:\n",
    "        return -(1/8)*x**2 - (1/2)*y**2 + (3/5)*x*y\n",
    "    elif func == 2:\n",
    "        return (1/2)*x**2 + (1/2)*y**2 + 4*x*y\n",
    "    else:\n",
    "        return (-(1/8)*(x-1)**2 - (1/2)*(y-1)**2 + (3/5)*(x-1)*(y-1))*x**2*y**2 + ((1/2)*x**2 + (1/2)*y**2 + 4*x*y)*(x-1)**2*(y-1)**2\n",
    "\n",
    "def grad(x, y, func=1):\n",
    "    if func == 1:\n",
    "        return np.array([(1/4)*x - (3/5)*y, -y + (3/5)*x])\n",
    "    elif func == 2:\n",
    "        return np.array([-x - 4*y, y + 4*x])\n",
    "    else:\n",
    "        return np.array([((1/4)*(x-1) - (3/5)*(y-1))*x**2*y**2 - (-(1/8)*(x-1)**2 - (1/2)*(y-1)**2 + (3/5)*(x-1)*(y-1))*2*x*y**2 \\\n",
    "                         - (x + 4*y)*(x-1)**2*(y-1)**2 - ((1/2)*x**2 + (1/2)*y**2 + 4*x*y)*2*(x-1)*(y-1)**2, \\\n",
    "                         (-(y-1) + (3/5)*(x-1))*x**2*y**2 + (-(1/8)*(x-1)**2 - (1/2)*(y-1)**2 + (3/5)*(x-1)*(y-1))*x**2*2*y \\\n",
    "                         + (y + 4*x)*(x-1)**2*(y-1)**2 + ((1/2)*x**2 + (1/2)*y**2 + 4*x*y)*(x-1)**2*2*(y-1)])\n",
    "\n",
    "def SGDA(x0, y0, func=1, Nitr=20000, alpha=0.1, noise_scale=0):\n",
    "    x = np.copy(x0)\n",
    "    y = np.copy(y0)\n",
    "    xys = np.zeros((Nitr, 2))\n",
    "    cnvg_point = 0\n",
    "    for i in range(Nitr):\n",
    "        g = grad(x, y, func)\n",
    "        x += alpha*(g[0] + np.random.normal(scale=noise_scale))\n",
    "        y += alpha*(g[1] + np.random.normal(scale=noise_scale))\n",
    "        xys[i] = [x, y]\n",
    "        if abs(x) > 1e3 or abs(y) > 1e3:\n",
    "            # print('Diverge!')\n",
    "            break\n",
    "        if (x-xys[i-1][0])**2 + (y-xys[i-1][1])**2 < 1e-10:\n",
    "            if (x-1)**2 + y**2 < 0.02:\n",
    "                cnvg_point = 1\n",
    "                break\n",
    "            if (x-1)**2 + (y-1)**2 < 0.02:\n",
    "                cnvg_point = 2\n",
    "                break\n",
    "            if x**2 + y**2 < 0.02:\n",
    "                cnvg_point = 3\n",
    "                break\n",
    "            if (x-0.3301)**2 + (y-0.3357)**2 < 0.02:\n",
    "                cnvg_point = 4\n",
    "                break\n",
    "            if x**2 + (y-1)**2 < 0.02:\n",
    "                cnvg_point = 5\n",
    "                break\n",
    "            else:\n",
    "                cnvg_point = 6\n",
    "                print('Warning: Unexpected converging points: (%1.2f, %1.2f)' % (x, y))\n",
    "                break\n",
    "    if i == Nitr - 1:\n",
    "        print('Warning: Reaching max. no. of iterations.')    \n",
    "    return np.array([x, y]), cnvg_point, i\n",
    "\n",
    "def OSGDA(x0, y0, func=1, Nitr=20000, alpha=0.1, noise_scale=0):\n",
    "    x = np.copy(x0)\n",
    "    y = np.copy(y0)\n",
    "    xys = np.zeros((Nitr, 2))\n",
    "    cnvg_point = 0\n",
    "    g_prev = np.zeros(2)\n",
    "    for i in range(Nitr):\n",
    "        g = grad(x, y, func)\n",
    "        x += alpha*(2*g[0] - g_prev[0] + np.random.normal(scale=noise_scale))\n",
    "        y += alpha*(2*g[1] - g_prev[1] + np.random.normal(scale=noise_scale))\n",
    "        xys[i] = [x, y]\n",
    "        g_prev = np.copy(g)\n",
    "        if abs(x) > 1e3 or abs(y) > 1e3:\n",
    "            # print('Diverge!')\n",
    "            break\n",
    "        if (x-xys[i-1][0])**2 + (y-xys[i-1][1])**2 < 1e-10:\n",
    "            if (x-1)**2 + y**2 < 0.02:\n",
    "                cnvg_point = 1\n",
    "                break\n",
    "            if (x-1)**2 + (y-1)**2 < 0.02:\n",
    "                cnvg_point = 2\n",
    "                break\n",
    "            if x**2 + y**2 < 0.02:\n",
    "                cnvg_point = 3\n",
    "                break\n",
    "            if (x-0.3301)**2 + (y-0.3357)**2 < 0.02:\n",
    "                cnvg_point = 4\n",
    "                break\n",
    "            if x**2 + (y-1)**2 < 0.02:\n",
    "                cnvg_point = 5\n",
    "                break\n",
    "            else:\n",
    "                cnvg_point = 6\n",
    "                print('Warning: Unexpected converging points: (%1.2f, %1.2f)' % (x, y))\n",
    "                break\n",
    "    if i == Nitr - 1:\n",
    "        print('Warning: Reaching max. no. of iterations.')    \n",
    "    return np.array([x, y]), cnvg_point, i\n",
    "\n",
    "def TTUR(x0, y0, func=1, Nitr=20000, alpha_x=0.01, alpha_y=0.1, noise_scale=0):\n",
    "    x = np.copy(x0)\n",
    "    y = np.copy(y0)\n",
    "    xys = np.zeros((Nitr, 2))\n",
    "    cnvg_point = 0\n",
    "    for i in range(Nitr):\n",
    "        g = grad(x, y, func)\n",
    "        x += alpha_x*(g[0] + np.random.normal(scale=noise_scale))\n",
    "        y += alpha_y*(g[1] + np.random.normal(scale=noise_scale))\n",
    "        xys[i] = [x, y]\n",
    "        if abs(x) > 1e3 or abs(y) > 1e3:\n",
    "            # print('Diverge!')\n",
    "            break\n",
    "        if (x-xys[i-1][0])**2 + (y-xys[i-1][1])**2 < 1e-10:\n",
    "            if (x-1)**2 + y**2 < 0.02:\n",
    "                cnvg_point = 1\n",
    "                break\n",
    "            if (x-1)**2 + (y-1)**2 < 0.02:\n",
    "                cnvg_point = 2\n",
    "                break\n",
    "            if x**2 + y**2 < 0.02:\n",
    "                cnvg_point = 3\n",
    "                break\n",
    "            if (x-0.3301)**2 + (y-0.3357)**2 < 0.02:\n",
    "                cnvg_point = 4\n",
    "                break\n",
    "            if x**2 + (y-1)**2 < 0.02:\n",
    "                cnvg_point = 5\n",
    "                break\n",
    "            else:\n",
    "                cnvg_point = 6\n",
    "                print('Warning: Unexpected converging points: (%1.2f, %1.2f)' % (x, y))\n",
    "                break\n",
    "    if i == Nitr - 1:\n",
    "        print('Warning: Reaching max. no. of iterations.')    \n",
    "    return np.array([x, y]), cnvg_point, i\n",
    "\n",
    "def OSGDA_TTUR(x0, y0, func=1, Nitr=20000, alpha_x=0.01, alpha_y=0.1, noise_scale=0):\n",
    "    x = np.copy(x0)\n",
    "    y = np.copy(y0)\n",
    "    xys = np.zeros((Nitr, 2))\n",
    "    cnvg_point = 0\n",
    "    g_prev = np.zeros(2)\n",
    "    for i in range(Nitr):\n",
    "        g = grad(x, y, func)\n",
    "        x += alpha_x*(2*g[0] - g_prev[0] + np.random.normal(scale=noise_scale))\n",
    "        y += alpha_y*(2*g[1] - g_prev[1] + np.random.normal(scale=noise_scale))\n",
    "        xys[i] = [x, y]\n",
    "        g_prev = np.copy(g)\n",
    "        if abs(x) > 1e3 or abs(y) > 1e3:\n",
    "            # print('Diverge!')\n",
    "            break\n",
    "        if (x-xys[i-1][0])**2 + (y-xys[i-1][1])**2 < 1e-10:\n",
    "            if (x-1)**2 + y**2 < 0.02:\n",
    "                cnvg_point = 1\n",
    "                break\n",
    "            if (x-1)**2 + (y-1)**2 < 0.02:\n",
    "                cnvg_point = 2\n",
    "                break\n",
    "            if x**2 + y**2 < 0.02:\n",
    "                cnvg_point = 3\n",
    "                break\n",
    "            if (x-0.3301)**2 + (y-0.3357)**2 < 0.02:\n",
    "                cnvg_point = 4\n",
    "                break\n",
    "            if x**2 + (y-1)**2 < 0.02:\n",
    "                cnvg_point = 5\n",
    "                break\n",
    "            else:\n",
    "                cnvg_point = 6\n",
    "                print('Warning: Unexpected converging points: (%1.2f, %1.2f)' % (x, y))\n",
    "                break\n",
    "    if i == Nitr - 1:\n",
    "        print('Warning: Reaching max. no. of iterations.')    \n",
    "    return np.array([x, y]), cnvg_point, i"
   ]
  },
  {
   "cell_type": "code",
   "execution_count": 63,
   "metadata": {},
   "outputs": [],
   "source": [
    "n_trials = 2000"
   ]
  },
  {
   "cell_type": "markdown",
   "metadata": {},
   "source": [
    "### SGDA"
   ]
  },
  {
   "cell_type": "code",
   "execution_count": 65,
   "metadata": {},
   "outputs": [
    {
     "name": "stdout",
     "output_type": "stream",
     "text": [
      "168.2873194221509\n",
      "[0.377  0.4075 0.2155 0.     0.     0.     0.    ]\n"
     ]
    }
   ],
   "source": [
    "cnvg_point_prob = np.zeros(7)\n",
    "itr_avg = 0\n",
    "for i in range(n_trials):\n",
    "    x = np.random.uniform(-0.5, 1.5)\n",
    "    y = np.random.uniform(-0.5, 1.5)\n",
    "    z, cnvg_point, itr = SGDA(x, y, func=3, alpha=0.1)\n",
    "    cnvg_point_prob[cnvg_point] += 1\n",
    "    if cnvg_point > 0:\n",
    "        itr_avg += itr\n",
    "        \n",
    "itr_avg = float(itr_avg)/float(np.sum(cnvg_point_prob[1:]))\n",
    "cnvg_point_prob /= n_trials\n",
    "print(itr_avg)\n",
    "print(cnvg_point_prob)"
   ]
  },
  {
   "cell_type": "code",
   "execution_count": 66,
   "metadata": {},
   "outputs": [
    {
     "name": "stdout",
     "output_type": "stream",
     "text": [
      "907.2834890965732\n",
      "[0.358  0.4145 0.2275 0.     0.     0.     0.    ]\n"
     ]
    }
   ],
   "source": [
    "cnvg_point_prob = np.zeros(7)\n",
    "itr_avg = 0\n",
    "for i in range(n_trials):\n",
    "    x = np.random.uniform(-0.5, 1.5)\n",
    "    y = np.random.uniform(-0.5, 1.5)\n",
    "    z, cnvg_point, itr = SGDA(x, y, func=3, alpha=0.1, noise_scale=0.002)\n",
    "    cnvg_point_prob[cnvg_point] += 1\n",
    "    if cnvg_point > 0:\n",
    "        itr_avg += itr\n",
    "        \n",
    "itr_avg = float(itr_avg)/float(np.sum(cnvg_point_prob[1:]))\n",
    "cnvg_point_prob /= n_trials\n",
    "print(itr_avg)\n",
    "print(cnvg_point_prob)"
   ]
  },
  {
   "cell_type": "code",
   "execution_count": 67,
   "metadata": {},
   "outputs": [
    {
     "name": "stdout",
     "output_type": "stream",
     "text": [
      "1195.6151260504203\n",
      "[0.405 0.351 0.244 0.    0.    0.    0.   ]\n"
     ]
    }
   ],
   "source": [
    "cnvg_point_prob = np.zeros(7)\n",
    "itr_avg = 0\n",
    "for i in range(n_trials):\n",
    "    x = np.random.uniform(-0.5, 1.5)\n",
    "    y = np.random.uniform(-0.5, 1.5)\n",
    "    z, cnvg_point, itr = SGDA(x, y, func=3, alpha=0.01)\n",
    "    cnvg_point_prob[cnvg_point] += 1\n",
    "    if cnvg_point > 0:\n",
    "        itr_avg += itr\n",
    "        \n",
    "itr_avg = float(itr_avg)/float(np.sum(cnvg_point_prob[1:]))\n",
    "cnvg_point_prob /= n_trials\n",
    "print(itr_avg)\n",
    "print(cnvg_point_prob)"
   ]
  },
  {
   "cell_type": "code",
   "execution_count": 81,
   "metadata": {},
   "outputs": [
    {
     "name": "stdout",
     "output_type": "stream",
     "text": [
      "826.6785411365564\n",
      "[0.4105 0.368  0.2215 0.     0.     0.     0.    ]\n"
     ]
    }
   ],
   "source": [
    "cnvg_point_prob = np.zeros(7)\n",
    "itr_avg = 0\n",
    "for i in range(n_trials):\n",
    "    x = np.random.uniform(-0.5, 1.5)\n",
    "    y = np.random.uniform(-0.5, 1.5)\n",
    "    z, cnvg_point, itr = SGDA(x, y, func=3, alpha=0.01, noise_scale=0.002)\n",
    "    cnvg_point_prob[cnvg_point] += 1\n",
    "    if cnvg_point > 0:\n",
    "        itr_avg += itr\n",
    "        \n",
    "itr_avg = float(itr_avg)/float(np.sum(cnvg_point_prob[1:]))\n",
    "cnvg_point_prob /= n_trials\n",
    "print(itr_avg)\n",
    "print(cnvg_point_prob)"
   ]
  },
  {
   "cell_type": "markdown",
   "metadata": {},
   "source": [
    "### OSGDA"
   ]
  },
  {
   "cell_type": "code",
   "execution_count": 69,
   "metadata": {},
   "outputs": [
    {
     "name": "stdout",
     "output_type": "stream",
     "text": [
      "161.80059523809524\n",
      "[0.328  0.3835 0.224  0.0645 0.     0.     0.    ]\n"
     ]
    }
   ],
   "source": [
    "cnvg_point_prob = np.zeros(7)\n",
    "itr_avg = 0\n",
    "for i in range(n_trials):\n",
    "    x = np.random.uniform(-0.5, 1.5)\n",
    "    y = np.random.uniform(-0.5, 1.5)\n",
    "    z, cnvg_point, itr = OSGDA(x, y, func=3, alpha=0.1)\n",
    "    cnvg_point_prob[cnvg_point] += 1\n",
    "    if cnvg_point > 0:\n",
    "        itr_avg += itr\n",
    "    \n",
    "itr_avg = float(itr_avg)/float(np.sum(cnvg_point_prob[1:]))\n",
    "cnvg_point_prob /= n_trials\n",
    "print(itr_avg)\n",
    "print(cnvg_point_prob)"
   ]
  },
  {
   "cell_type": "code",
   "execution_count": 70,
   "metadata": {},
   "outputs": [
    {
     "name": "stdout",
     "output_type": "stream",
     "text": [
      "1159.4812874251497\n",
      "[0.332  0.3895 0.2205 0.058  0.     0.     0.    ]\n"
     ]
    }
   ],
   "source": [
    "cnvg_point_prob = np.zeros(7)\n",
    "itr_avg = 0\n",
    "for i in range(n_trials):\n",
    "    x = np.random.uniform(-0.5, 1.5)\n",
    "    y = np.random.uniform(-0.5, 1.5)\n",
    "    z, cnvg_point, itr = OSGDA(x, y, func=3, alpha=0.1, noise_scale=0.002)\n",
    "    cnvg_point_prob[cnvg_point] += 1\n",
    "    if cnvg_point > 0:\n",
    "        itr_avg += itr\n",
    "    \n",
    "itr_avg = float(itr_avg)/float(np.sum(cnvg_point_prob[1:]))\n",
    "cnvg_point_prob /= n_trials\n",
    "print(itr_avg)\n",
    "print(cnvg_point_prob)"
   ]
  },
  {
   "cell_type": "code",
   "execution_count": 71,
   "metadata": {},
   "outputs": [
    {
     "name": "stdout",
     "output_type": "stream",
     "text": [
      "2937.9276485788114\n",
      "[0.226  0.3705 0.2355 0.168  0.     0.     0.    ]\n"
     ]
    }
   ],
   "source": [
    "cnvg_point_prob = np.zeros(7)\n",
    "itr_avg = 0\n",
    "for i in range(n_trials):\n",
    "    x = np.random.uniform(-0.5, 1.5)\n",
    "    y = np.random.uniform(-0.5, 1.5)\n",
    "    z, cnvg_point, itr = OSGDA(x, y, func=3, alpha=0.01)\n",
    "    cnvg_point_prob[cnvg_point] += 1\n",
    "    if cnvg_point > 0:\n",
    "        itr_avg += itr\n",
    "    \n",
    "itr_avg = float(itr_avg)/float(np.sum(cnvg_point_prob[1:]))\n",
    "cnvg_point_prob /= n_trials\n",
    "print(itr_avg)\n",
    "print(cnvg_point_prob)"
   ]
  },
  {
   "cell_type": "code",
   "execution_count": 72,
   "metadata": {},
   "outputs": [
    {
     "name": "stdout",
     "output_type": "stream",
     "text": [
      "2120.588961038961\n",
      "[0.23   0.3945 0.2175 0.158  0.     0.     0.    ]\n"
     ]
    }
   ],
   "source": [
    "cnvg_point_prob = np.zeros(7)\n",
    "itr_avg = 0\n",
    "for i in range(n_trials):\n",
    "    x = np.random.uniform(-0.5, 1.5)\n",
    "    y = np.random.uniform(-0.5, 1.5)\n",
    "    z, cnvg_point, itr = OSGDA(x, y, func=3, alpha=0.01, noise_scale=0.002)\n",
    "    cnvg_point_prob[cnvg_point] += 1\n",
    "    if cnvg_point > 0:\n",
    "        itr_avg += itr\n",
    "    \n",
    "itr_avg = float(itr_avg)/float(np.sum(cnvg_point_prob[1:]))\n",
    "cnvg_point_prob /= n_trials\n",
    "print(itr_avg)\n",
    "print(cnvg_point_prob)"
   ]
  },
  {
   "cell_type": "markdown",
   "metadata": {},
   "source": [
    "### TTUR"
   ]
  },
  {
   "cell_type": "code",
   "execution_count": 73,
   "metadata": {},
   "outputs": [
    {
     "name": "stdout",
     "output_type": "stream",
     "text": [
      "1019.2390953150242\n",
      "[0.381  0.4125 0.2065 0.     0.     0.     0.    ]\n"
     ]
    }
   ],
   "source": [
    "cnvg_point_prob = np.zeros(7)\n",
    "itr_avg = 0\n",
    "for i in range(n_trials):\n",
    "    x = np.random.uniform(-0.5, 1.5)\n",
    "    y = np.random.uniform(-0.5, 1.5)\n",
    "    z, cnvg_point, itr = TTUR(x, y, func=3, alpha_x=0.01, alpha_y=0.1)\n",
    "    cnvg_point_prob[cnvg_point] += 1\n",
    "    if cnvg_point > 0:\n",
    "        itr_avg += itr\n",
    "        \n",
    "itr_avg = float(itr_avg)/float(np.sum(cnvg_point_prob[1:]))\n",
    "cnvg_point_prob /= n_trials\n",
    "print(itr_avg)\n",
    "print(cnvg_point_prob)"
   ]
  },
  {
   "cell_type": "code",
   "execution_count": 74,
   "metadata": {},
   "outputs": [
    {
     "name": "stdout",
     "output_type": "stream",
     "text": [
      "648.5739549839228\n",
      "[0.378  0.4295 0.1925 0.     0.     0.     0.    ]\n"
     ]
    }
   ],
   "source": [
    "cnvg_point_prob = np.zeros(7)\n",
    "itr_avg = 0\n",
    "for i in range(n_trials):\n",
    "    x = np.random.uniform(-0.5, 1.5)\n",
    "    y = np.random.uniform(-0.5, 1.5)\n",
    "    z, cnvg_point, itr = TTUR(x, y, func=3, alpha_x=0.01, alpha_y=0.1, noise_scale=0.002)\n",
    "    cnvg_point_prob[cnvg_point] += 1\n",
    "    if cnvg_point > 0:\n",
    "        itr_avg += itr\n",
    "        \n",
    "itr_avg = float(itr_avg)/float(np.sum(cnvg_point_prob[1:]))\n",
    "cnvg_point_prob /= n_trials\n",
    "print(itr_avg)\n",
    "print(cnvg_point_prob)"
   ]
  },
  {
   "cell_type": "code",
   "execution_count": 75,
   "metadata": {},
   "outputs": [
    {
     "name": "stdout",
     "output_type": "stream",
     "text": [
      "697.8257053291536\n",
      "[0.2025 0.549  0.     0.2485 0.     0.     0.    ]\n"
     ]
    }
   ],
   "source": [
    "cnvg_point_prob = np.zeros(7)\n",
    "itr_avg = 0\n",
    "for i in range(n_trials):\n",
    "    x = np.random.uniform(-0.5, 1.5)\n",
    "    y = np.random.uniform(-0.5, 1.5)\n",
    "    z, cnvg_point, itr = TTUR(x, y, func=3, alpha_x=0.1, alpha_y=0.01)\n",
    "    cnvg_point_prob[cnvg_point] += 1\n",
    "    if cnvg_point > 0:\n",
    "        itr_avg += itr\n",
    "\n",
    "itr_avg = float(itr_avg)/float(np.sum(cnvg_point_prob[1:]))\n",
    "cnvg_point_prob /= n_trials\n",
    "print(itr_avg)\n",
    "print(cnvg_point_prob)"
   ]
  },
  {
   "cell_type": "code",
   "execution_count": 76,
   "metadata": {},
   "outputs": [
    {
     "name": "stdout",
     "output_type": "stream",
     "text": [
      "728.5547770700637\n",
      "[0.215 0.555 0.    0.23  0.    0.    0.   ]\n"
     ]
    }
   ],
   "source": [
    "cnvg_point_prob = np.zeros(7)\n",
    "itr_avg = 0\n",
    "for i in range(n_trials):\n",
    "    x = np.random.uniform(-0.5, 1.5)\n",
    "    y = np.random.uniform(-0.5, 1.5)\n",
    "    z, cnvg_point, itr = TTUR(x, y, func=3, alpha_x=0.1, alpha_y=0.01, noise_scale=0.002)\n",
    "    cnvg_point_prob[cnvg_point] += 1\n",
    "    if cnvg_point > 0:\n",
    "        itr_avg += itr\n",
    "\n",
    "itr_avg = float(itr_avg)/float(np.sum(cnvg_point_prob[1:]))\n",
    "cnvg_point_prob /= n_trials\n",
    "print(itr_avg)\n",
    "print(cnvg_point_prob)"
   ]
  },
  {
   "cell_type": "markdown",
   "metadata": {},
   "source": [
    "### OTTUR"
   ]
  },
  {
   "cell_type": "code",
   "execution_count": 77,
   "metadata": {},
   "outputs": [
    {
     "name": "stdout",
     "output_type": "stream",
     "text": [
      "734.7249508840864\n",
      "[0.2365 0.5335 0.     0.23   0.     0.     0.    ]\n"
     ]
    }
   ],
   "source": [
    "cnvg_point_prob = np.zeros(7)\n",
    "itr_avg = 0\n",
    "for i in range(n_trials):\n",
    "    x = np.random.uniform(-0.5, 1.5)\n",
    "    y = np.random.uniform(-0.5, 1.5)\n",
    "    z, cnvg_point, itr = OSGDA_TTUR(x, y, func=3, alpha_x=0.1, alpha_y=0.01)\n",
    "    cnvg_point_prob[cnvg_point] += 1\n",
    "    if cnvg_point > 0:\n",
    "        itr_avg += itr\n",
    "\n",
    "itr_avg = float(itr_avg)/float(np.sum(cnvg_point_prob[1:]))\n",
    "cnvg_point_prob /= n_trials\n",
    "print(itr_avg)\n",
    "print(cnvg_point_prob)"
   ]
  },
  {
   "cell_type": "code",
   "execution_count": 78,
   "metadata": {},
   "outputs": [
    {
     "name": "stdout",
     "output_type": "stream",
     "text": [
      "748.1272493573265\n",
      "[0.222 0.551 0.    0.227 0.    0.    0.   ]\n"
     ]
    }
   ],
   "source": [
    "cnvg_point_prob = np.zeros(7)\n",
    "itr_avg = 0\n",
    "for i in range(n_trials):\n",
    "    x = np.random.uniform(-0.5, 1.5)\n",
    "    y = np.random.uniform(-0.5, 1.5)\n",
    "    z, cnvg_point, itr = OSGDA_TTUR(x, y, func=3, alpha_x=0.1, alpha_y=0.01, noise_scale=0.002)\n",
    "    cnvg_point_prob[cnvg_point] += 1\n",
    "    if cnvg_point > 0:\n",
    "        itr_avg += itr\n",
    "\n",
    "itr_avg = float(itr_avg)/float(np.sum(cnvg_point_prob[1:]))\n",
    "cnvg_point_prob /= n_trials\n",
    "print(itr_avg)\n",
    "print(cnvg_point_prob)"
   ]
  },
  {
   "cell_type": "code",
   "execution_count": 79,
   "metadata": {},
   "outputs": [
    {
     "name": "stdout",
     "output_type": "stream",
     "text": [
      "992.6497461928934\n",
      "[0.409 0.402 0.189 0.    0.    0.    0.   ]\n"
     ]
    }
   ],
   "source": [
    "cnvg_point_prob = np.zeros(7)\n",
    "itr_avg = 0\n",
    "for i in range(n_trials):\n",
    "    x = np.random.uniform(-0.5, 1.5)\n",
    "    y = np.random.uniform(-0.5, 1.5)\n",
    "    z, cnvg_point, itr = OSGDA_TTUR(x, y, func=3, alpha_x=0.01, alpha_y=0.1)\n",
    "    cnvg_point_prob[cnvg_point] += 1\n",
    "    if cnvg_point > 0:\n",
    "        itr_avg += itr\n",
    "\n",
    "itr_avg = float(itr_avg)/float(np.sum(cnvg_point_prob[1:]))\n",
    "cnvg_point_prob /= n_trials\n",
    "print(itr_avg)\n",
    "print(cnvg_point_prob)"
   ]
  },
  {
   "cell_type": "code",
   "execution_count": 80,
   "metadata": {},
   "outputs": [
    {
     "name": "stdout",
     "output_type": "stream",
     "text": [
      "659.6186085498742\n",
      "[0.4035 0.4165 0.179  0.     0.001  0.     0.    ]\n"
     ]
    }
   ],
   "source": [
    "cnvg_point_prob = np.zeros(7)\n",
    "itr_avg = 0\n",
    "for i in range(n_trials):\n",
    "    x = np.random.uniform(-0.5, 1.5)\n",
    "    y = np.random.uniform(-0.5, 1.5)\n",
    "    z, cnvg_point, itr = OSGDA_TTUR(x, y, func=3, alpha_x=0.01, alpha_y=0.1, noise_scale=0.002)\n",
    "    cnvg_point_prob[cnvg_point] += 1\n",
    "    if cnvg_point > 0:\n",
    "        itr_avg += itr\n",
    "\n",
    "itr_avg = float(itr_avg)/float(np.sum(cnvg_point_prob[1:]))\n",
    "cnvg_point_prob /= n_trials\n",
    "print(itr_avg)\n",
    "print(cnvg_point_prob)"
   ]
  },
  {
   "cell_type": "markdown",
   "metadata": {},
   "source": [
    "### SGDA dynamics"
   ]
  },
  {
   "cell_type": "code",
   "execution_count": 93,
   "metadata": {},
   "outputs": [
    {
     "data": {
      "image/png": "[encoded data removed]",
      "text/plain": [
       "<Figure size 432x288 with 1 Axes>"
      ]
     },
     "metadata": {
      "needs_background": "light"
     },
     "output_type": "display_data"
    }
   ],
   "source": [
    "N = 50\n",
    "xs = np.linspace(-0.3, 1.3, num=N)\n",
    "ys = np.linspace(-0.3, 1.3, num=N)\n",
    "grads = np.zeros((N, N, 2))\n",
    "for i in range(len(xs)):\n",
    "    for j in range(len(ys)):\n",
    "        v = grad(xs[i], ys[j], func=3)\n",
    "        grads[j, i] = np.divide(v, np.linalg.norm(v), out=np.zeros_like(v), where=np.linalg.norm(v)!=0)\n",
    "plt.quiver(xs, ys, grads[:, :, 0], grads[:, :, 1], scale=60, width=0.002, color='blue')\n",
    "plt.xlim(-0.3, 1.3)\n",
    "plt.ylim(-0.3, 1.3)\n",
    "plt.savefig('example1_gradient.pdf')"
   ]
  }
 ],
 "metadata": {
  "colab": {
   "collapsed_sections": [],
   "name": "majority_vote.ipynb",
   "provenance": [],
   "version": "0.3.2"
  },
  "kernelspec": {
   "display_name": "Python 3",
   "language": "python",
   "name": "python3"
  },
  "language_info": {
   "codemirror_mode": {
    "name": "ipython",
    "version": 3
   },
   "file_extension": ".py",
   "mimetype": "text/x-python",
   "name": "python",
   "nbconvert_exporter": "python",
   "pygments_lexer": "ipython3",
   "version": "3.6.8"
  }
 },
 "nbformat": 4,
 "nbformat_minor": 1
}
